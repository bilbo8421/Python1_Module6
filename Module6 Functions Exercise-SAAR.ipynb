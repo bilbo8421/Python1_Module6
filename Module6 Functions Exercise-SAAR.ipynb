{
 "cells": [
  {
   "cell_type": "markdown",
   "metadata": {},
   "source": [
    "1. Round 4.5667 to the nearest hundreth using a build-in function, round()."
   ]
  },
  {
   "cell_type": "code",
   "execution_count": 1,
   "metadata": {},
   "outputs": [
    {
     "data": {
      "text/plain": [
       "4.57"
      ]
     },
     "execution_count": 1,
     "metadata": {},
     "output_type": "execute_result"
    }
   ],
   "source": [
    "round(4.5667,2)"
   ]
  },
  {
   "cell_type": "markdown",
   "metadata": {},
   "source": [
    "2. Convert \"657\" to an integer data type"
   ]
  },
  {
   "cell_type": "code",
   "execution_count": 2,
   "metadata": {},
   "outputs": [
    {
     "data": {
      "text/plain": [
       "657"
      ]
     },
     "execution_count": 2,
     "metadata": {},
     "output_type": "execute_result"
    }
   ],
   "source": [
    "int(\"657\")"
   ]
  },
  {
   "cell_type": "markdown",
   "metadata": {},
   "source": [
    "3.\n",
    "Write a program to get two numbers from a user. Then, create a secret code where a code consists of 6 numbers and each number is randomly generated number between two numbers from a user. "
   ]
  },
  {
   "cell_type": "code",
   "execution_count": 3,
   "metadata": {},
   "outputs": [
    {
     "name": "stdin",
     "output_type": "stream",
     "text": [
      "Enter a Single Digit Number [0-9] 1\n",
      "Enter Another Single Digit Number [0-9] 9\n"
     ]
    },
    {
     "data": {
      "text/plain": [
       "858833"
      ]
     },
     "execution_count": 3,
     "metadata": {},
     "output_type": "execute_result"
    }
   ],
   "source": [
    "import random as r\n",
    "\n",
    "num1 = int(input(\"Enter a Single Digit Number [0-9]\"))\n",
    "num2 = int(input(\"Enter Another Single Digit Number [0-9]\"))\n",
    "\n",
    "# 6 digit code generator 6 * [0-9}\n",
    "def code_generator (x, y) :\n",
    "    code = str(r.randint(x, y))\n",
    "    code += str(r.randint(x, y))\n",
    "    code += str(r.randint(x, y))\n",
    "    code += str(r.randint(x, y))\n",
    "    code += str(r.randint(x, y))\n",
    "    code += str(r.randint(x, y))\n",
    "    code = int(code)\n",
    "    return code               \n",
    "\n",
    "code_generator(num1,num2)"
   ]
  },
  {
   "cell_type": "markdown",
   "metadata": {},
   "source": [
    "4.\n",
    "Write a program to center align below text where number of characters per line is 40:\n",
    "\n",
    "    Hickory, dickory, dock,\n",
    "    The mouse ran up the clock.\n",
    "    The clock struck one,\n",
    "    The mouse ran down,\n",
    "    Hickory, dickory, dock\n",
    "\n",
    "<b>Do not use string's center method! </b>"
   ]
  },
  {
   "cell_type": "code",
   "execution_count": 4,
   "metadata": {
    "jp-MarkdownHeadingCollapsed": true
   },
   "outputs": [
    {
     "name": "stdout",
     "output_type": "stream",
     "text": [
      "        Hickory, dickory, dock,        \n",
      "      The mouse ran up the clock.      \n",
      "         The clock struck one,         \n",
      "          The mouse ran down,          \n",
      "         Hickory, dickory, dock         \n",
      "                  ---                  \n",
      "        Hickory, dickory, dock,         \n",
      "      The mouse ran up the clock.       \n",
      "         The clock struck one,          \n",
      "          The mouse ran down,           \n",
      "         Hickory, dickory, dock         \n"
     ]
    }
   ],
   "source": [
    "max_char = 40\n",
    "\n",
    "line1 = \"Hickory, dickory, dock,\"\n",
    "line2 = \"The mouse ran up the clock.\"\n",
    "line3 = \"The clock struck one,\"\n",
    "line4 = \"The mouse ran down,\"\n",
    "line5 = \"Hickory, dickory, dock\"\n",
    "\n",
    "def my_center_method (line) :\n",
    "    num_char = int((max_char-len(line))/2) # blank fills each side of line\n",
    "    pad = num_char * \" \"\n",
    "    s = pad + line + pad\n",
    "    print(s)\n",
    "    return\n",
    "    \n",
    "# my_center_method function calls   \n",
    "my_center_method (line1)\n",
    "my_center_method (line2)\n",
    "my_center_method (line3)\n",
    "my_center_method (line4)\n",
    "my_center_method (line5)\n",
    "my_center_method (\"---\")\n",
    "\n",
    "# string center method\n",
    "print(line1.center(max_char, ' '))\n",
    "print(line2.center(max_char, ' '))\n",
    "print(line3.center(max_char, ' '))\n",
    "print(line4.center(max_char, ' '))\n",
    "print(line5.center(max_char, ' '))\n"
   ]
  },
  {
   "cell_type": "markdown",
   "metadata": {},
   "source": [
    "5. Write a function to calculate the miles per gallon.\n",
    "Get a miles driven and gallons used from a user and call your function to calculate the miles per gallon. "
   ]
  },
  {
   "cell_type": "code",
   "execution_count": 6,
   "metadata": {},
   "outputs": [
    {
     "name": "stdin",
     "output_type": "stream",
     "text": [
      "Enter the number of miles driven: 456\n",
      "Enter the number gallons of gas used: 24\n"
     ]
    },
    {
     "name": "stdout",
     "output_type": "stream",
     "text": [
      "---\n",
      "Calculated miles/gallon: 19.0\n"
     ]
    }
   ],
   "source": [
    "miles = int(input(\"Enter the number of miles driven:\"))\n",
    "gallons = int(input(\"Enter the number gallons of gas used:\"))\n",
    "\n",
    "def miles_per_gallon (m,gal) :\n",
    "  calc = m/gal\n",
    "  print(f\"---\\nCalculated miles/gallon: {calc:.1f}\")\n",
    "  return \n",
    "\n",
    "miles_per_gallon(miles,gallons)"
   ]
  },
  {
   "cell_type": "code",
   "execution_count": null,
   "metadata": {},
   "outputs": [],
   "source": []
  }
 ],
 "metadata": {
  "kernelspec": {
   "display_name": "Python 3 (ipykernel)",
   "language": "python",
   "name": "python3"
  },
  "language_info": {
   "codemirror_mode": {
    "name": "ipython",
    "version": 3
   },
   "file_extension": ".py",
   "mimetype": "text/x-python",
   "name": "python",
   "nbconvert_exporter": "python",
   "pygments_lexer": "ipython3",
   "version": "3.11.7"
  }
 },
 "nbformat": 4,
 "nbformat_minor": 4
}
